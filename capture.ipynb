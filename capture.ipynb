{
 "cells": [
  {
   "cell_type": "code",
   "execution_count": 21,
   "metadata": {},
   "outputs": [],
   "source": [
    "import re, orodja\n",
    "import pandas as pd\n",
    "file = 'osu_index.txt'\n",
    "aux_file = 'data-auxf.txt'\n",
    "page = 'https://osu.ppy.sh/beatmapsets?sort=difficulty_desc&s=ranked'"
   ]
  },
  {
   "cell_type": "markdown",
   "metadata": {},
   "source": [
    "## Auxilary code to make a file if one doesn't already exist"
   ]
  },
  {
   "cell_type": "code",
   "execution_count": 22,
   "metadata": {},
   "outputs": [],
   "source": [
    "def create_files(files=[file, aux_file, 'data.json', 'data.csv']):\n",
    "    for f in files:\n",
    "        try:\n",
    "            a = open(f, 'x')\n",
    "            a.close()\n",
    "        except:\n",
    "            continue"
   ]
  },
  {
   "cell_type": "markdown",
   "metadata": {},
   "source": [
    "Regex here"
   ]
  },
  {
   "cell_type": "code",
   "execution_count": 23,
   "metadata": {},
   "outputs": [],
   "source": [
    "curr_re = r'\\{\"beatmapsets\":\\[(.*?)\\]\\}\\]'\n",
    "data_block_re = r'\\{.*?\\}\\]\\}'\n",
    "data_re = re.compile(\n",
    "    r'\\{'\n",
    "    r'\"artist\":(?P<artist>.*?)?,.*?,'\n",
    "    r'\"creator\":(?P<creator>.*)?,' \n",
    "    r'\"favourite_count\":(?P<fav_count>\\d*)?,.*?,'\n",
    "    r'\"id\":(?P<id>\\d*)?,.*?,'\n",
    "    r'\"play_count\":(?P<play_count>\\d*)?,.*?,'\n",
    "    r'\"status\":(?P<status>.*)?,'\n",
    "    r'\"title\":(?P<title>.*?)?,.*?,'\n",
    "    r'\"bpm\":(?P<bpm>\\d*)?,.*?'\n",
    "    r'\"tags\":(?P<tags>.*?)?,'\n",
    "    r'\"beatmaps\":\\[(?P<beatmapset>.*?)?\\]'\n",
    "    r'\\}',\n",
    "    flags=re.DOTALL\n",
    ")\n",
    "\n",
    "beatmapset_re = re.compile(\n",
    "    r'\\{.*?\\}',\n",
    "    flags=re.DOTALL\n",
    ")\n",
    "\n",
    "bmaux_re = re.compile(\n",
    "    r'[^\\\\]',\n",
    "    flags=re.DOTALL\n",
    ")\n",
    "\n",
    "# beatmap_re = re.compile(\n",
    "#     r'\\{.*?'\n",
    "#     r'\"difficulty_rating\":(?P<difficulty_rating>.*?)?,.*?,'\n",
    "#     r'\"total_length\":(?P<map_len>\\d*?)?,.*?,'\n",
    "#     r'\"accuracy\":(?P<accuracy>.*?)?,'\n",
    "#     r'\"ar\":(?P<approach_rate>:*?)?,'\n",
    "#     r'\"bpm\":(?P<beatmap_bpm>\\d*?)?,.*?,'\n",
    "#     r'\"passcount\":(?P<passcount>:\\d*?)?,'\n",
    "#     r'\"playcount\":(?P<playcount>\\d*?)?,.*?,'\n",
    "#     r'\"max_combo\":(?P<max_combo>\\d*?)?',\n",
    "#     flags=re.DOTALL\n",
    "# )\n",
    "beatmap_re = re.compile(\n",
    "    r'\\{.*?,'\n",
    "    r'\"difficulty_rating\":(?P<difficulty_rating>.*?),'\n",
    "    r'\"id\":(?P<id>\\d*?),.*?,'\n",
    "    r'\"total_length\":(?P<map_len>\\d*?),.*?,'\n",
    "    r'\"accuracy\":(?P<accuracy>.*?),'\n",
    "    r'\"ar\":(?P<approach_rate>.*?),'\n",
    "    r'\"bpm\":(?P<beatmap_bpm>\\d*?),.*?,'\n",
    "    r'\"passcount\":(?P<passcount>\\d*?),'\n",
    "    r'\"playcount\":(?P<playcount>\\d*?),.*?,'\n",
    "    r'\"max_combo\":(?P<max_combo>\\d*?)\\}',\n",
    "    flags=re.DOTALL\n",
    ")"
   ]
  },
  {
   "cell_type": "markdown",
   "metadata": {},
   "source": [
    "## Separate code snippets here"
   ]
  },
  {
   "cell_type": "code",
   "execution_count": 24,
   "metadata": {},
   "outputs": [],
   "source": [
    "def scrape(fin: str, out: str) -> None:\n",
    "    regex = re.compile(curr_re, flags=re.DOTALL) #re.DOTALL postav piko na vse, vkljucno s novo vrstico\n",
    "    with open(fin) as f:\n",
    "        stuff = f.read()\n",
    "        with open(out, 'w', encoding='UTF8')as o:\n",
    "            print(re.findall(regex, stuff), file=o)"
   ]
  },
  {
   "cell_type": "code",
   "execution_count": 25,
   "metadata": {},
   "outputs": [],
   "source": [
    "def make_blocks(filename: str) -> list:\n",
    "    l = []\n",
    "    with open(filename) as f:\n",
    "        stuff = f.read()\n",
    "    regex = re.compile(data_block_re, flags=re.DOTALL)\n",
    "    for block in re.findall(regex, stuff):\n",
    "        l.append(block)\n",
    "    return l"
   ]
  },
  {
   "cell_type": "code",
   "execution_count": 26,
   "metadata": {},
   "outputs": [],
   "source": [
    "def scrape_block(block: str) -> dict:\n",
    "    if not block: return {}\n",
    "    map = data_re.search(block).groupdict()\n",
    "    map['fav_count'] = int(map.get('fav_count', 0))\n",
    "    map['id'] = int(map.get('id', 0))\n",
    "    map['play_count'] = int(map.get('play_count', 0))\n",
    "    map['bpm'] = int(map['bpm']) \n",
    "    map['tags'] = map['tags'].split(' ')\n",
    "    # map['beatmapset'] = scrape_beatmaps(map.get('beatmapset', ''))\n",
    "    beatmapsset_string =  map.get('beatmapset', '')\n",
    "    l = []\n",
    "    for match in re.findall(r'\\{.*?\\}', beatmapsset_string):\n",
    "        l.append(beatmap_re.search(match).groupdict())\n",
    "    map['beatmapset'] = l\n",
    "    return map"
   ]
  },
  {
   "cell_type": "code",
   "execution_count": 27,
   "metadata": {},
   "outputs": [],
   "source": [
    "def error_check(block: str) -> bool: #eni so prazni iz nekga razloga\n",
    "    try:\n",
    "        scrape_block(block)\n",
    "        return True\n",
    "    except:\n",
    "        print('Empty match!')\n",
    "        return False"
   ]
  },
  {
   "cell_type": "markdown",
   "metadata": {},
   "source": [
    "Replaces (if \\_\\_name__ == '\\_\\_main__')"
   ]
  },
  {
   "cell_type": "code",
   "execution_count": 28,
   "metadata": {},
   "outputs": [
    {
     "name": "stdout",
     "output_type": "stream",
     "text": [
      "Empty match!\n",
      "7\n",
      "Empty match!\n",
      "28\n"
     ]
    }
   ],
   "source": [
    "create_files()\n",
    "orodja.shrani_spletno_stran(page, file, vsili_prenos=True)\n",
    "scrape(file, aux_file)\n",
    "data_blocks = make_blocks(aux_file)\n",
    "data = []\n",
    "for i, block in enumerate(data_blocks):\n",
    "    if not error_check(block):\n",
    "        print(i)\n",
    "        continue\n",
    "    data.append(scrape_block(block))\n",
    "orodja.zapisi_json(data, 'data.json')\n",
    "data_format = [\n",
    "    'id', \n",
    "    'title', \n",
    "    'creator',\n",
    "    'artist', \n",
    "    'fav_count', \n",
    "    'play_count', \n",
    "    'bpm', \n",
    "    'status', \n",
    "    'tags', \n",
    "    'beatmapset'\n",
    "    ]\n",
    "orodja.zapisi_csv(data, data_format, 'data.csv')"
   ]
  },
  {
   "cell_type": "markdown",
   "metadata": {},
   "source": [
    "### Random stuff"
   ]
  }
 ],
 "metadata": {
  "kernelspec": {
   "display_name": "Python 3.10.6 64-bit",
   "language": "python",
   "name": "python3"
  },
  "language_info": {
   "codemirror_mode": {
    "name": "ipython",
    "version": 3
   },
   "file_extension": ".py",
   "mimetype": "text/x-python",
   "name": "python",
   "nbconvert_exporter": "python",
   "pygments_lexer": "ipython3",
   "version": "3.10.6"
  },
  "orig_nbformat": 4,
  "vscode": {
   "interpreter": {
    "hash": "aee8b7b246df8f9039afb4144a1f6fd8d2ca17a180786b69acc140d282b71a49"
   }
  }
 },
 "nbformat": 4,
 "nbformat_minor": 2
}
