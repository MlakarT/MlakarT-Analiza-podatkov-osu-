{
 "cells": [
  {
   "cell_type": "code",
   "execution_count": 345,
   "metadata": {},
   "outputs": [],
   "source": [
    "import re, orodja\n",
    "import pandas as pd\n",
    "file = 'osu_index.txt'\n",
    "aux_file = 'data-auxf.txt'\n",
    "page = 'https://osu.ppy.sh/beatmapsets?sort=difficulty_desc&s=ranked'"
   ]
  },
  {
   "cell_type": "markdown",
   "metadata": {},
   "source": [
    "V tega bomo dal regex-e"
   ]
  },
  {
   "cell_type": "code",
   "execution_count": 346,
   "metadata": {},
   "outputs": [],
   "source": [
    "curr_re = r'\\{\"beatmapsets\":\\[(.*?)\\]\\}\\]'\n",
    "data_block_re = r'\\{.*?\\}\\]\\}'\n",
    "data_re = re.compile(\n",
    "    r'\\{'\n",
    "    r'\"artist\":(?P<artist>.*?)?,.*?,'\n",
    "    r'\"creator\":(?P<creator>.*)?,'\n",
    "    r'\"favourite_count\":(?P<fav_count>\\d*)?,.*?,'\n",
    "    r'\"id\":(?P<id>\\d*)?,.*?,'\n",
    "    r'\"play_count\":(?P<play_count>\\d*)?,.*?,'\n",
    "    r'\"status\":(?P<status>.*)?,'\n",
    "    r'\"title\":(?P<title>.*?)?,.*?,'\n",
    "    r'\"bpm\":(?P<bpm>\\d*)?,.*?'\n",
    "    r'\"tags\":(?P<tags>.*?)?,'\n",
    "    r'\"beatmaps\":\\[(?P<beatmapset>.*?)?\\]'\n",
    "    r'\\}',\n",
    "    flags=re.DOTALL\n",
    ")\n",
    "\n",
    "beatmapset_re = re.compile(\n",
    "    r'\\{.*'\n",
    "    r'\"difficulty_rating\":(?P<difficulty_rating>.*?),.*?,'\n",
    "    r'\"total_length\":(?P<map_len>\\d*?),.*?,'\n",
    "    r''\n",
    "    r'\\}',\n",
    "    flags=re.DOTALL\n",
    ")"
   ]
  },
  {
   "cell_type": "code",
   "execution_count": 347,
   "metadata": {},
   "outputs": [],
   "source": [
    "artist_re = r''\n",
    "creator_re = r''\n",
    "favourite_count = r''\n",
    "id_re = r''\n",
    "play_count_re = r''\n",
    "status_re = r''\n",
    "title_re = r''\n",
    "bpm_re = r''"
   ]
  },
  {
   "cell_type": "markdown",
   "metadata": {},
   "source": [
    "# Tukej delamo posamezne odseke kode"
   ]
  },
  {
   "cell_type": "code",
   "execution_count": 348,
   "metadata": {},
   "outputs": [],
   "source": [
    "def scrape(fin: str, out: str) -> None:\n",
    "    regex = re.compile(curr_re, flags=re.DOTALL) #re.DOTALL postav piko na vse, vkljucno s novo vrstico\n",
    "    with open(fin) as f:\n",
    "        stuff = f.read()\n",
    "        with open(out, 'w', encoding='UTF8')as o:\n",
    "            print(re.findall(regex, stuff), file=o)"
   ]
  },
  {
   "cell_type": "code",
   "execution_count": 349,
   "metadata": {},
   "outputs": [],
   "source": [
    "def make_blocks(filename: str) -> list:\n",
    "    l = []\n",
    "    with open(filename) as f:\n",
    "        stuff= f.read()\n",
    "    regex = re.compile(data_block_re, flags=re.DOTALL)\n",
    "    for block in re.findall(regex, stuff):\n",
    "        l.append(block)\n",
    "    return l"
   ]
  },
  {
   "cell_type": "code",
   "execution_count": 357,
   "metadata": {},
   "outputs": [],
   "source": [
    "def scrape_block(block: str) -> dict:\n",
    "    if not block: return {}\n",
    "    map = data_re.search(block).groupdict()\n",
    "    map['fav_count'] = int(map.get('fav_count', 0))\n",
    "    map['id'] = int(map.get('id', 0))\n",
    "    map['play_count'] = int(map.get('play_count', 0))\n",
    "    map['bpm'] = int(map['bpm']) \n",
    "    map['tags'] = map['tags'].split(' ')\n",
    "    map['beatmapset'] = map.get('beatmapset', '').split('}')\n",
    "    return map"
   ]
  },
  {
   "cell_type": "code",
   "execution_count": 358,
   "metadata": {},
   "outputs": [],
   "source": [
    "def error_check(block: str) -> bool: #eni so prazni iz nekga razloga\n",
    "    try:\n",
    "        scrape_block(block)\n",
    "        return True\n",
    "    except:\n",
    "        print('Empty match!')\n",
    "        return False"
   ]
  },
  {
   "cell_type": "markdown",
   "metadata": {},
   "source": [
    "Ta del nadomešča (if \\_\\_name__ == '\\_\\_main__')"
   ]
  },
  {
   "cell_type": "code",
   "execution_count": 360,
   "metadata": {},
   "outputs": [
    {
     "name": "stdout",
     "output_type": "stream",
     "text": [
      "Empty match!\n",
      "2\n",
      "Empty match!\n",
      "29\n",
      "Empty match!\n",
      "44\n",
      "Empty match!\n",
      "46\n",
      "Empty match!\n",
      "47\n"
     ]
    }
   ],
   "source": [
    "orodja.shrani_spletno_stran(page, file, vsili_prenos=True)\n",
    "scrape(file, aux_file)\n",
    "data_blocks = make_blocks(aux_file)\n",
    "data = []\n",
    "for i, block in enumerate(data_blocks):\n",
    "    if not error_check(block):\n",
    "        print(i)\n",
    "        continue\n",
    "    data.append(scrape_block(block))\n",
    "orodja.zapisi_json(data, 'data.json')\n",
    "data_format = [\n",
    "    'id', \n",
    "    'creator',\n",
    "    'artist', \n",
    "    'fav_count', \n",
    "    'play_count', \n",
    "    'status', \n",
    "    'title', \n",
    "    'bpm', \n",
    "    'tags', \n",
    "    'beatmapset'\n",
    "    ]\n",
    "orodja.zapisi_csv(data, data_format, 'data.csv')"
   ]
  },
  {
   "cell_type": "markdown",
   "metadata": {},
   "source": [
    "### Random stuff"
   ]
  },
  {
   "cell_type": "code",
   "execution_count": 353,
   "metadata": {},
   "outputs": [
    {
     "data": {
      "text/plain": [
       "'{\"artist\":\"M-Project feat. Mayumi Morinaga\",\"artist_unicode\":\"M-Project feat. \\\\\\\\u68ee\\\\\\\\u6c38\\\\\\\\u771f\\\\\\\\u7531\\\\\\\\u7f8e\",\"covers\":{\"cover\":\"https:\\\\\\\\/\\\\\\\\/assets.ppy.sh\\\\\\\\/beatmaps\\\\\\\\/1817236\\\\\\\\/covers\\\\\\\\/cover.jpg?1667070299\",\"cover@2x\":\"https:\\\\\\\\/\\\\\\\\/assets.ppy.sh\\\\\\\\/beatmaps\\\\\\\\/1817236\\\\\\\\/covers\\\\\\\\/cover@2x.jpg?1667070299\",\"card\":\"https:\\\\\\\\/\\\\\\\\/assets.ppy.sh\\\\\\\\/beatmaps\\\\\\\\/1817236\\\\\\\\/covers\\\\\\\\/card.jpg?1667070299\",\"card@2x\":\"https:\\\\\\\\/\\\\\\\\/assets.ppy.sh\\\\\\\\/beatmaps\\\\\\\\/1817236\\\\\\\\/covers\\\\\\\\/card@2x.jpg?1667070299\",\"list\":\"https:\\\\\\\\/\\\\\\\\/assets.ppy.sh\\\\\\\\/beatmaps\\\\\\\\/1817236\\\\\\\\/covers\\\\\\\\/list.jpg?1667070299\",\"list@2x\":\"https:\\\\\\\\/\\\\\\\\/assets.ppy.sh\\\\\\\\/beatmaps\\\\\\\\/1817236\\\\\\\\/covers\\\\\\\\/list@2x.jpg?1667070299\",\"slimcover\":\"https:\\\\\\\\/\\\\\\\\/assets.ppy.sh\\\\\\\\/beatmaps\\\\\\\\/1817236\\\\\\\\/covers\\\\\\\\/slimcover.jpg?1667070299\",\"slimcover@2x\":\"https:\\\\\\\\/\\\\\\\\/assets.ppy.sh\\\\\\\\/beatmaps\\\\\\\\/1817236\\\\\\\\/covers\\\\\\\\/slimcover@2x.jpg?1667070299\"},\"creator\":\"Slyme\",\"favourite_count\":19,\"hype\":null,\"id\":1817236,\"nsfw\":false,\"offset\":0,\"play_count\":1063,\"preview_url\":\"\\\\\\\\/\\\\\\\\/b.ppy.sh\\\\\\\\/preview\\\\\\\\/1817236.mp3\",\"source\":\"NOISZ re:||VERSE\",\"spotlight\":false,\"status\":\"ranked\",\"title\":\"D.C. al coda (OP ver.)\",\"title_unicode\":\"D.C. al coda (OP ver.)\",\"track_id\":7442,\"user_id\":11695793,\"video\":false,\"availability\":{\"download_disabled\":false,\"more_information\":null},\"bpm\":170,\"can_be_hyped\":false,\"discussion_enabled\":true,\"discussion_locked\":false,\"is_scoreable\":true,\"last_updated\":\"2022-10-29T19:04:44Z\",\"legacy_thread_url\":\"https:\\\\\\\\/\\\\\\\\/osu.ppy.sh\\\\\\\\/community\\\\\\\\/forums\\\\\\\\/topics\\\\\\\\/1620165\",\"nominations_summary\":{\"current\":2,\"required\":2},\"ranked\":1,\"ranked_date\":\"2022-11-05T19:22:13Z\",\"storyboard\":true,\"submitted_date\":\"2022-07-29T14:28:50Z\",\"tags\":\"instrumental drum n bass d&b edm english video game electronic female vocal re verse fa featured artist mari 0hara mari_0hara opening op storyboard sb silveryako blackbn blackbq senya moimoi\",\"beatmaps\":[{\"beatmapset_id\":1817236,\"difficulty_rating\":3.92,\"id\":3728180,\"mode\":\"taiko\",\"status\":\"ranked\",\"total_length\":70,\"user_id\":11695793,\"version\":\"O.N.I.\",\"accuracy\":5.5,\"ar\":10,\"bpm\":170,\"convert\":false,\"count_circles\":305,\"count_sliders\":0,\"count_spinners\":0,\"cs\":2,\"deleted_at\":null,\"drain\":5.5,\"hit_length\":68,\"is_scoreable\":true,\"last_updated\":\"2022-10-29T19:04:44Z\",\"mode_int\":1,\"passcount\":69,\"playcount\":181,\"ranked\":1,\"url\":\"https:\\\\\\\\/\\\\\\\\/osu.ppy.sh\\\\\\\\/beatmaps\\\\\\\\/3728180\",\"checksum\":\"c2d5dd827f173378ee68743186ef80ae\",\"max_combo\":305},{\"beatmapset_id\":1817236,\"difficulty_rating\":2.27,\"id\":3728181,\"mode\":\"taiko\",\"status\":\"ranked\",\"total_length\":70,\"user_id\":11695793,\"version\":\"F.U.T.S.U.U.\",\"accuracy\":4,\"ar\":10,\"bpm\":170,\"convert\":false,\"count_circles\":170,\"count_sliders\":0,\"count_spinners\":0,\"cs\":2,\"deleted_at\":null,\"drain\":7,\"hit_length\":68,\"is_scoreable\":true,\"last_updated\":\"2022-10-29T19:04:45Z\",\"mode_int\":1,\"passcount\":47,\"playcount\":149,\"ranked\":1,\"url\":\"https:\\\\\\\\/\\\\\\\\/osu.ppy.sh\\\\\\\\/beatmaps\\\\\\\\/3728181\",\"checksum\":\"7768a7f24de06c35ebcb5aa508fe6455\",\"max_combo\":170},{\"beatmapset_id\":1817236,\"difficulty_rating\":1.59,\"id\":3728182,\"mode\":\"taiko\",\"status\":\"ranked\",\"total_length\":70,\"user_id\":11695793,\"version\":\"K.A.N.T.A.N.\",\"accuracy\":3,\"ar\":10,\"bpm\":170,\"convert\":false,\"count_circles\":113,\"count_sliders\":0,\"count_spinners\":0,\"cs\":2,\"deleted_at\":null,\"drain\":8,\"hit_length\":68,\"is_scoreable\":true,\"last_updated\":\"2022-10-29T19:04:45Z\",\"mode_int\":1,\"passcount\":141,\"playcount\":316,\"ranked\":1,\"url\":\"https:\\\\\\\\/\\\\\\\\/osu.ppy.sh\\\\\\\\/beatmaps\\\\\\\\/3728182\",\"checksum\":\"781c33074be0708220863729adb233f0\",\"max_combo\":113},{\"beatmapset_id\":1817236,\"difficulty_rating\":2.88,\"id\":3728183,\"mode\":\"taiko\",\"status\":\"ranked\",\"total_length\":70,\"user_id\":11695793,\"version\":\"M.U.Z.U.K.A.S.H.I.I.\",\"accuracy\":5,\"ar\":10,\"bpm\":170,\"convert\":false,\"count_circles\":238,\"count_sliders\":0,\"count_spinners\":0,\"cs\":2,\"deleted_at\":null,\"drain\":6,\"hit_length\":68,\"is_scoreable\":true,\"last_updated\":\"2022-10-29T19:04:46Z\",\"mode_int\":1,\"passcount\":56,\"playcount\":163,\"ranked\":1,\"url\":\"https:\\\\\\\\/\\\\\\\\/osu.ppy.sh\\\\\\\\/beatmaps\\\\\\\\/3728183\",\"checksum\":\"2b1cd074ed182c06f2c3682a2bc57e0a\",\"max_combo\":238},{\"beatmapset_id\":1817236,\"difficulty_rating\":4.74,\"id\":3741101,\"mode\":\"taiko\",\"status\":\"ranked\",\"total_length\":70,\"user_id\":6291741,\"version\":\"Black\\\\\\'s F.I.N.A.L.:||S.T.A.G.E.\",\"accuracy\":6,\"ar\":10,\"bpm\":170,\"convert\":false,\"count_circles\":383,\"count_sliders\":0,\"count_spinners\":2,\"cs\":2,\"deleted_at\":null,\"drain\":6,\"hit_length\":68,\"is_scoreable\":true,\"last_updated\":\"2022-10-29T19:04:46Z\",\"mode_int\":1,\"passcount\":80,\"playcount\":254,\"ranked\":1,\"url\":\"https:\\\\\\\\/\\\\\\\\/osu.ppy.sh\\\\\\\\/beatmaps\\\\\\\\/3741101\",\"checksum\":\"1210bda39841c8019df6e4b1adb798f4\",\"max_combo\":383}]}'"
      ]
     },
     "execution_count": 353,
     "metadata": {},
     "output_type": "execute_result"
    }
   ],
   "source": [
    "data_blocks[26]"
   ]
  },
  {
   "cell_type": "code",
   "execution_count": null,
   "metadata": {},
   "outputs": [],
   "source": []
  }
 ],
 "metadata": {
  "kernelspec": {
   "display_name": "Python 3.10.6 64-bit",
   "language": "python",
   "name": "python3"
  },
  "language_info": {
   "codemirror_mode": {
    "name": "ipython",
    "version": 3
   },
   "file_extension": ".py",
   "mimetype": "text/x-python",
   "name": "python",
   "nbconvert_exporter": "python",
   "pygments_lexer": "ipython3",
   "version": "3.10.6"
  },
  "orig_nbformat": 4,
  "vscode": {
   "interpreter": {
    "hash": "aee8b7b246df8f9039afb4144a1f6fd8d2ca17a180786b69acc140d282b71a49"
   }
  }
 },
 "nbformat": 4,
 "nbformat_minor": 2
}
